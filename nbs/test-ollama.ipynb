{
 "cells": [
  {
   "cell_type": "markdown",
   "metadata": {},
   "source": [
    "# Ollama\n"
   ]
  },
  {
   "cell_type": "markdown",
   "metadata": {},
   "source": [
    "## Local\n",
    "Only to try in local not in docker"
   ]
  },
  {
   "cell_type": "code",
   "execution_count": 1,
   "metadata": {},
   "outputs": [],
   "source": [
    "import ollama"
   ]
  },
  {
   "cell_type": "code",
   "execution_count": 2,
   "metadata": {},
   "outputs": [
    {
     "name": "stdout",
     "output_type": "stream",
     "text": [
      "llama3:latest\n",
      "analyze-gemma:latest\n",
      "analyze-llama2:latest\n",
      "analyze-llama3:latest\n",
      "analyze-mistral:latest\n",
      "mistral:latest\n",
      "mario-model:latest\n",
      "llama2:latest\n",
      "gemma:7b\n",
      "gemma:2b\n"
     ]
    }
   ],
   "source": [
    "list_models = ollama.list()\n",
    "\n",
    "model_names = [model['name'] for model in list_models['models']]\n",
    "\n",
    "for name in model_names:\n",
    "    print(name)"
   ]
  },
  {
   "cell_type": "code",
   "execution_count": 3,
   "metadata": {},
   "outputs": [
    {
     "data": {
      "text/plain": [
       "{'model': 'gemma:2b',\n",
       " 'created_at': '2024-06-14T09:11:18.8282636Z',\n",
       " 'message': {'role': 'assistant',\n",
       "  'content': 'I am a large language model, trained by Google. I am not capable of speaking Spanish or any other human languages. I am a computer program designed to understand and generate human language.'},\n",
       " 'done_reason': 'stop',\n",
       " 'done': True,\n",
       " 'total_duration': 40948931100,\n",
       " 'load_duration': 21116955500,\n",
       " 'prompt_eval_count': 37,\n",
       " 'prompt_eval_duration': 6269249000,\n",
       " 'eval_count': 38,\n",
       " 'eval_duration': 13550318000}"
      ]
     },
     "execution_count": 3,
     "metadata": {},
     "output_type": "execute_result"
    }
   ],
   "source": [
    "response = ollama.chat(model='gemma:2b', messages=[\n",
    "  {\n",
    "    'role': 'user',\n",
    "    'content': 'Hello, Who are you? Do you speak Spanish?',\n",
    "  },\n",
    "])\n",
    "response"
   ]
  },
  {
   "cell_type": "code",
   "execution_count": 4,
   "metadata": {},
   "outputs": [
    {
     "data": {
      "text/plain": [
       "'I am a large language model, trained by Google. I am not capable of speaking Spanish or any other human languages. I am a computer program designed to understand and generate human language.'"
      ]
     },
     "execution_count": 4,
     "metadata": {},
     "output_type": "execute_result"
    }
   ],
   "source": [
    "response['message']['content']"
   ]
  },
  {
   "cell_type": "code",
   "execution_count": 6,
   "metadata": {},
   "outputs": [],
   "source": [
    "response_m = ollama.chat(model='mario-model', messages=[\n",
    "  {\n",
    "    'role': 'user',\n",
    "    'content': 'Hello, Who are you? Do you speak Spanish?',\n",
    "  },\n",
    "])"
   ]
  },
  {
   "cell_type": "code",
   "execution_count": 7,
   "metadata": {},
   "outputs": [
    {
     "data": {
      "text/plain": [
       "'\"It\\'s-a me, Mario! Ah, sí, I can speak some Spanish! A little bit of lingo never hurt anyone, right? *mustache twirl* But don\\'t worry, I\\'m more fluent in rescuing Princess Peach from Bowser than speaking the King\\'s language. What\\'s on your mind?\"'"
      ]
     },
     "execution_count": 7,
     "metadata": {},
     "output_type": "execute_result"
    }
   ],
   "source": [
    "response_m['message']['content']"
   ]
  },
  {
   "cell_type": "code",
   "execution_count": 6,
   "metadata": {},
   "outputs": [
    {
     "name": "stderr",
     "output_type": "stream",
     "text": [
      "\u001b[?25ltransferring model data ⠙ \u001b[?25h\u001b[?25l\u001b[2K\u001b[1Gtransferring model data ⠙ \u001b[?25h\u001b[?25l\u001b[2K\u001b[1Gtransferring model data ⠸ \u001b[?25h\u001b[?25l\u001b[2K\u001b[1Gtransferring model data ⠸ \u001b[?25h\u001b[?25l\u001b[2K\u001b[1Gtransferring model data ⠴ \u001b[?25h\u001b[?25l\u001b[2K\u001b[1Gtransferring model data ⠴ \u001b[?25h\u001b[?25l\u001b[2K\u001b[1Gtransferring model data ⠧ \u001b[?25h\u001b[?25l\u001b[2K\u001b[1Gtransferring model data ⠧ \u001b[?25h\u001b[?25l\u001b[2K\u001b[1Gtransferring model data ⠏ \u001b[?25h\u001b[?25l\u001b[2K\u001b[1Gtransferring model data ⠏ \u001b[?25h\u001b[?25l\u001b[2K\u001b[1Gtransferring model data ⠙ \u001b[?25h\u001b[?25l\u001b[2K\u001b[1Gtransferring model data \n",
      "using existing layer sha256:ff82381e2bea77d91c1b824c7afb83f6fb73e9f7de9dda631bcdbca564aa5435 \n",
      "using existing layer sha256:43070e2d4e532684de521b885f385d0841030efa2b1a20bafb76133a5e1379c1 \n",
      "using existing layer sha256:c43332387573e98fdfad4a606171279955b53d891ba2500552c2984a6560ffb4 \n",
      "creating new layer sha256:c0ec5d7b6746cd5383cc11917aa9653eead167f154bd56c2ad3beefb4ed550ea \n",
      "creating new layer sha256:a38b5be9075d21b82d65dfbed0a632670609eda91e7d942583670afd64323809 \n",
      "creating new layer sha256:7d2b3df6a58b584be322ba6c8cf4593f441b130e129821d10ba55616998f1cbc \n",
      "writing manifest \n",
      "success \u001b[?25h\n"
     ]
    }
   ],
   "source": [
    "!ollama create analyze-mistral -f ./modelfile_mistral"
   ]
  },
  {
   "cell_type": "code",
   "execution_count": 7,
   "metadata": {},
   "outputs": [
    {
     "name": "stderr",
     "output_type": "stream",
     "text": [
      "\u001b[?25ltransferring model data ⠋ \u001b[?25h\u001b[?25l\u001b[2K\u001b[1Gtransferring model data ⠹ \u001b[?25h\u001b[?25l\u001b[2K\u001b[1Gtransferring model data ⠹ \u001b[?25h\u001b[?25l\u001b[2K\u001b[1Gtransferring model data ⠼ \u001b[?25h\u001b[?25l\u001b[2K\u001b[1Gtransferring model data ⠼ \u001b[?25h\u001b[?25l\u001b[2K\u001b[1Gtransferring model data ⠦ \u001b[?25h\u001b[?25l\u001b[2K\u001b[1Gtransferring model data ⠦ \u001b[?25h\u001b[?25l\u001b[2K\u001b[1Gtransferring model data ⠇ \u001b[?25h\u001b[?25l\u001b[2K\u001b[1Gtransferring model data ⠏ \u001b[?25h\u001b[?25l\u001b[2K\u001b[1Gtransferring model data ⠏ \u001b[?25h\u001b[?25l\u001b[2K\u001b[1Gtransferring model data ⠙ \u001b[?25h\u001b[?25l\u001b[2K\u001b[1Gtransferring model data ⠹ \u001b[?25h\u001b[?25l\u001b[2K\u001b[1Gtransferring model data ⠹ \u001b[?25h\u001b[?25l\u001b[2K\u001b[1Gtransferring model data ⠸ \u001b[?25h\u001b[?25l\u001b[2K\u001b[1Gtransferring model data ⠼ \u001b[?25h\u001b[?25l\u001b[2K\u001b[1Gtransferring model data ⠴ \u001b[?25h\u001b[?25l\u001b[2K\u001b[1Gtransferring model data ⠦ \u001b[?25h\u001b[?25l\u001b[2K\u001b[1Gtransferring model data ⠧ \u001b[?25h\u001b[?25l\u001b[2K\u001b[1Gtransferring model data ⠏ \u001b[?25h\u001b[?25l\u001b[2K\u001b[1Gtransferring model data ⠏ \u001b[?25h\u001b[?25l\u001b[2K\u001b[1Gtransferring model data ⠙ \u001b[?25h\u001b[?25l\u001b[2K\u001b[1Gtransferring model data ⠙ \u001b[?25h\u001b[?25l\u001b[2K\u001b[1Gtransferring model data ⠸ \u001b[?25h\u001b[?25l\u001b[2K\u001b[1Gtransferring model data ⠸ \u001b[?25h\u001b[?25l\u001b[2K\u001b[1Gtransferring model data ⠴ \u001b[?25h\u001b[?25l\u001b[2K\u001b[1Gtransferring model data ⠦ \u001b[?25h\u001b[?25l\u001b[2K\u001b[1Gtransferring model data ⠧ \u001b[?25h\u001b[?25l\u001b[2K\u001b[1Gtransferring model data ⠇ \u001b[?25h\u001b[?25l\u001b[2K\u001b[1Gtransferring model data ⠏ \u001b[?25h\u001b[?25l\u001b[2K\u001b[1Gtransferring model data ⠋ \u001b[?25h\u001b[?25l\u001b[2K\u001b[1Gtransferring model data ⠙ \u001b[?25h\u001b[?25l\u001b[2K\u001b[1Gtransferring model data ⠹ \u001b[?25h\u001b[?25l\u001b[2K\u001b[1Gtransferring model data ⠹ \u001b[?25h\u001b[?25l\u001b[2K\u001b[1Gtransferring model data ⠼ \u001b[?25h\u001b[?25l\u001b[2K\u001b[1Gtransferring model data ⠼ \u001b[?25h\u001b[?25l\u001b[2K\u001b[1Gtransferring model data ⠦ \u001b[?25h\u001b[?25l\u001b[2K\u001b[1Gtransferring model data ⠦ \u001b[?25h\u001b[?25l\u001b[2K\u001b[1Gtransferring model data ⠧ \u001b[?25h\u001b[?25l\u001b[2K\u001b[1Gtransferring model data ⠏ \u001b[?25h\u001b[?25l\u001b[2K\u001b[1Gtransferring model data ⠋ \u001b[?25h\u001b[?25l\u001b[2K\u001b[1Gtransferring model data ⠙ \u001b[?25h\u001b[?25l\u001b[2K\u001b[1Gtransferring model data ⠹ \u001b[?25h\u001b[?25l\u001b[2K\u001b[1Gtransferring model data ⠸ \u001b[?25h\u001b[?25l\u001b[2K\u001b[1Gtransferring model data ⠼ \u001b[?25h\u001b[?25l\u001b[2K\u001b[1Gtransferring model data ⠴ \u001b[?25h\u001b[?25l\u001b[2K\u001b[1Gtransferring model data ⠦ \u001b[?25h\u001b[?25l\u001b[2K\u001b[1Gtransferring model data ⠦ \u001b[?25h\u001b[?25l\u001b[2K\u001b[1Gtransferring model data ⠇ \u001b[?25h\u001b[?25l\u001b[2K\u001b[1Gtransferring model data ⠇ \u001b[?25h\u001b[?25l\u001b[2K\u001b[1Gtransferring model data ⠏ \u001b[?25h\u001b[?25l\u001b[2K\u001b[1Gtransferring model data ⠙ \u001b[?25h\u001b[?25l\u001b[2K\u001b[1Gtransferring model data ⠙ \u001b[?25h\u001b[?25l\u001b[2K\u001b[1Gtransferring model data ⠸ \u001b[?25h\u001b[?25l\u001b[2K\u001b[1Gtransferring model data ⠼ \u001b[?25h\u001b[?25l\u001b[2K\u001b[1Gtransferring model data ⠼ \u001b[?25h\u001b[?25l\u001b[2K\u001b[1Gtransferring model data ⠦ \u001b[?25h\u001b[?25l\u001b[2K\u001b[1Gtransferring model data ⠦ \u001b[?25h\u001b[?25l\u001b[2K\u001b[1Gtransferring model data ⠇ \u001b[?25h\u001b[?25l\u001b[2K\u001b[1Gtransferring model data ⠏ \u001b[?25h\u001b[?25l\u001b[2K\u001b[1Gtransferring model data ⠏ \u001b[?25h\u001b[?25l\u001b[2K\u001b[1Gtransferring model data ⠙ \u001b[?25h\u001b[?25l\u001b[2K\u001b[1Gtransferring model data ⠙ \u001b[?25h\u001b[?25l\u001b[2K\u001b[1Gtransferring model data ⠸ \u001b[?25h\u001b[?25l\u001b[2K\u001b[1Gtransferring model data ⠼ \u001b[?25h\u001b[?25l\u001b[2K\u001b[1Gtransferring model data ⠼ \u001b[?25h\u001b[?25l\u001b[2K\u001b[1Gtransferring model data ⠴ \u001b[?25h\u001b[?25l\u001b[2K\u001b[1Gtransferring model data ⠦ \u001b[?25h\u001b[?25l\u001b[2K\u001b[1Gtransferring model data ⠧ \u001b[?25h\u001b[?25l\u001b[2K\u001b[1Gtransferring model data ⠇ \u001b[?25h\u001b[?25l\u001b[2K\u001b[1Gtransferring model data ⠋ \u001b[?25h\u001b[?25l\u001b[2K\u001b[1Gtransferring model data ⠋ \u001b[?25h\u001b[?25l\u001b[2K\u001b[1Gtransferring model data ⠹ \u001b[?25h\u001b[?25l\u001b[2K\u001b[1Gtransferring model data ⠸ \u001b[?25h\u001b[?25l\u001b[2K\u001b[1Gtransferring model data ⠸ \u001b[?25h\u001b[?25l\u001b[2K\u001b[1Gtransferring model data ⠼ \u001b[?25h\u001b[?25l\u001b[2K\u001b[1Gtransferring model data ⠴ \u001b[?25h\u001b[?25l\u001b[2K\u001b[1Gtransferring model data ⠧ \u001b[?25h\u001b[?25l\u001b[2K\u001b[1Gtransferring model data ⠇ \u001b[?25h\u001b[?25l\u001b[2K\u001b[1Gtransferring model data ⠇ \u001b[?25h\u001b[?25l\u001b[2K\u001b[1Gtransferring model data ⠏ \u001b[?25h\u001b[?25l\u001b[2K\u001b[1Gtransferring model data ⠙ \u001b[?25h\u001b[?25l\u001b[2K\u001b[1Gtransferring model data ⠙ \u001b[?25h\u001b[?25l\u001b[2K\u001b[1Gtransferring model data ⠹ \u001b[?25h\u001b[?25l\u001b[2K\u001b[1Gtransferring model data ⠸ \u001b[?25h\u001b[?25l\u001b[2K\u001b[1Gtransferring model data ⠼ \u001b[?25h\u001b[?25l\u001b[2K\u001b[1Gtransferring model data ⠦ \u001b[?25h\u001b[?25l\u001b[2K\u001b[1Gtransferring model data ⠦ \u001b[?25h\u001b[?25l\u001b[2K\u001b[1Gtransferring model data \n",
      "using existing layer sha256:00e1317cbf74d901080d7100f57580ba8dd8de57203072dc6f668324ba545f29 \n",
      "using existing layer sha256:4fa551d4f938f68b8c1e6afa9d28befb70e3f33f75d0753248d530364aeea40f \n",
      "using existing layer sha256:8ab4849b038cf0abc5b1c9b8ee1443dca6b93a045c2272180d985126eb40bf6f \n",
      "using existing layer sha256:c0ec5d7b6746cd5383cc11917aa9653eead167f154bd56c2ad3beefb4ed550ea \n",
      "creating new layer sha256:f70aa7150063873aadceafcfdcf7473aee12b6d2bde464bb56724d81a5df9504 \n",
      "creating new layer sha256:affed593d2cefef44501b89ac04ae1193d6ecfcf7ea6ab78032675db9f8d9ec4 \n",
      "writing manifest \n",
      "success \u001b[?25h\n"
     ]
    }
   ],
   "source": [
    "!ollama create analyze-llama3 -f ./modelfile_llama3"
   ]
  },
  {
   "cell_type": "code",
   "execution_count": 9,
   "metadata": {},
   "outputs": [
    {
     "name": "stderr",
     "output_type": "stream",
     "text": [
      "\u001b[?25ltransferring model data ⠋ \u001b[?25h\u001b[?25l\u001b[2K\u001b[1Gtransferring model data ⠙ \u001b[?25h\u001b[?25l\u001b[2K\u001b[1Gtransferring model data ⠹ \u001b[?25h\u001b[?25l\u001b[2K\u001b[1Gtransferring model data ⠸ \u001b[?25h\u001b[?25l\u001b[2K\u001b[1Gtransferring model data ⠼ \u001b[?25h\u001b[?25l\u001b[2K\u001b[1Gtransferring model data ⠴ \u001b[?25h\u001b[?25l\u001b[2K\u001b[1Gtransferring model data ⠦ \u001b[?25h\u001b[?25l\u001b[2K\u001b[1Gtransferring model data ⠧ \u001b[?25h\u001b[?25l\u001b[2K\u001b[1Gtransferring model data ⠇ \u001b[?25h\u001b[?25l\u001b[2K\u001b[1Gtransferring model data ⠏ \u001b[?25h\u001b[?25l\u001b[2K\u001b[1Gtransferring model data ⠙ \u001b[?25h\u001b[?25l\u001b[2K\u001b[1Gtransferring model data ⠙ \u001b[?25h\u001b[?25l\u001b[2K\u001b[1Gtransferring model data ⠹ \u001b[?25h\u001b[?25l\u001b[2K\u001b[1Gtransferring model data ⠸ \u001b[?25h\u001b[?25l\u001b[2K\u001b[1Gtransferring model data ⠼ \u001b[?25h\u001b[?25l\u001b[2K\u001b[1Gtransferring model data ⠴ \u001b[?25h\u001b[?25l\u001b[2K\u001b[1Gtransferring model data ⠦ \u001b[?25h\u001b[?25l\u001b[2K\u001b[1Gtransferring model data ⠧ \u001b[?25h\u001b[?25l\u001b[2K\u001b[1Gtransferring model data ⠇ \u001b[?25h\u001b[?25l\u001b[2K\u001b[1Gtransferring model data ⠏ \u001b[?25h\u001b[?25l\u001b[2K\u001b[1Gtransferring model data ⠋ \u001b[?25h\u001b[?25l\u001b[2K\u001b[1Gtransferring model data ⠙ \u001b[?25h\u001b[?25l\u001b[2K\u001b[1Gtransferring model data ⠹ \u001b[?25h\u001b[?25l\u001b[2K\u001b[1Gtransferring model data ⠸ \u001b[?25h\u001b[?25l\u001b[2K\u001b[1Gtransferring model data \n",
      "using existing layer sha256:8934d96d3f08982e95922b2b7a2c626a1fe873d7c3b06e8e56d7bc0a1fef9246 \n",
      "using existing layer sha256:8c17c2ebb0ea011be9981cc3922db8ca8fa61e828c5d3f44cb6ae342bf80460b \n",
      "using existing layer sha256:7c23fb36d80141c4ab8cdbb61ee4790102ebd2bf7aeff414453177d4f2110e5d \n",
      "using existing layer sha256:2e0493f67d0c8c9c68a8aeacdf6a38a2151cb3c4c1d42accf296e19810527988 \n",
      "using existing layer sha256:c0ec5d7b6746cd5383cc11917aa9653eead167f154bd56c2ad3beefb4ed550ea \n",
      "creating new layer sha256:e72411e13d2d1e4fdb65f7f7e74ba2cd1b3a91198a0f43fb6bd5f097f8bc20e9 \n",
      "creating new layer sha256:f26b8ab75aec676c062f6e550dd15b3f1113b5c8589445f35553de3d0f007129 \n",
      "writing manifest \n",
      "success \u001b[?25h\n"
     ]
    }
   ],
   "source": [
    "!ollama create analyze-llama2 -f ./modelfile_llama2"
   ]
  },
  {
   "cell_type": "code",
   "execution_count": 10,
   "metadata": {},
   "outputs": [
    {
     "name": "stderr",
     "output_type": "stream",
     "text": [
      "\u001b[?25ltransferring model data ⠋ \u001b[?25h\u001b[?25l\u001b[2K\u001b[1Gtransferring model data ⠹ \u001b[?25h\u001b[?25l\u001b[2K\u001b[1Gtransferring model data ⠹ \u001b[?25h\u001b[?25l\u001b[2K\u001b[1Gtransferring model data ⠼ \u001b[?25h\u001b[?25l\u001b[2K\u001b[1Gtransferring model data ⠼ \u001b[?25h\u001b[?25l\u001b[2K\u001b[1Gtransferring model data ⠦ \u001b[?25h\u001b[?25l\u001b[2K\u001b[1Gtransferring model data ⠧ \u001b[?25h\u001b[?25l\u001b[2K\u001b[1Gtransferring model data ⠧ \u001b[?25h\u001b[?25l\u001b[2K\u001b[1Gtransferring model data ⠏ \u001b[?25h\u001b[?25l\u001b[2K\u001b[1Gtransferring model data ⠏ \u001b[?25h\u001b[?25l\u001b[2K\u001b[1Gtransferring model data ⠙ \u001b[?25h\u001b[?25l\u001b[2K\u001b[1Gtransferring model data ⠙ \u001b[?25h\u001b[?25l\u001b[2K\u001b[1Gtransferring model data ⠸ \u001b[?25h\u001b[?25l\u001b[2K\u001b[1Gtransferring model data ⠸ \u001b[?25h\u001b[?25l\u001b[2K\u001b[1Gtransferring model data ⠴ \u001b[?25h\u001b[?25l\u001b[2K\u001b[1Gtransferring model data ⠴ \u001b[?25h\u001b[?25l\u001b[2K\u001b[1Gtransferring model data ⠦ \u001b[?25h\u001b[?25l\u001b[2K\u001b[1Gtransferring model data ⠧ \u001b[?25h\u001b[?25l\u001b[2K\u001b[1Gtransferring model data ⠇ \u001b[?25h\u001b[?25l\u001b[2K\u001b[1Gtransferring model data ⠋ \u001b[?25h\u001b[?25l\u001b[2K\u001b[1Gtransferring model data ⠋ \u001b[?25h\u001b[?25l\u001b[2K\u001b[1Gtransferring model data ⠹ \u001b[?25h\u001b[?25l\u001b[2K\u001b[1Gtransferring model data ⠹ \u001b[?25h\u001b[?25l\u001b[2K\u001b[1Gtransferring model data ⠼ \u001b[?25h\u001b[?25l\u001b[2K\u001b[1Gtransferring model data ⠼ \u001b[?25h\u001b[?25l\u001b[2K\u001b[1Gtransferring model data ⠦ \u001b[?25h\u001b[?25l\u001b[2K\u001b[1Gtransferring model data ⠦ \u001b[?25h\u001b[?25l\u001b[2K\u001b[1Gtransferring model data ⠇ \u001b[?25h\u001b[?25l\u001b[2K\u001b[1Gtransferring model data ⠇ \u001b[?25h\u001b[?25l\u001b[2K\u001b[1Gtransferring model data ⠋ \u001b[?25h\u001b[?25l\u001b[2K\u001b[1Gtransferring model data ⠋ \u001b[?25h\u001b[?25l\u001b[2K\u001b[1Gtransferring model data ⠙ \u001b[?25h\u001b[?25l\u001b[2K\u001b[1Gtransferring model data ⠸ \u001b[?25h\u001b[?25l\u001b[2K\u001b[1Gtransferring model data ⠸ \u001b[?25h\u001b[?25l\u001b[2K\u001b[1Gtransferring model data ⠼ \u001b[?25h\u001b[?25l\u001b[2K\u001b[1Gtransferring model data ⠦ \u001b[?25h\u001b[?25l\u001b[2K\u001b[1Gtransferring model data ⠧ \u001b[?25h\u001b[?25l\u001b[2K\u001b[1Gtransferring model data ⠧ \u001b[?25h\u001b[?25l\u001b[2K\u001b[1Gtransferring model data ⠏ \u001b[?25h\u001b[?25l\u001b[2K\u001b[1Gtransferring model data ⠏ \u001b[?25h\u001b[?25l\u001b[2K\u001b[1Gtransferring model data ⠋ \u001b[?25h\u001b[?25l\u001b[2K\u001b[1Gtransferring model data ⠹ \u001b[?25h\u001b[?25l\u001b[2K\u001b[1Gtransferring model data ⠹ \u001b[?25h\u001b[?25l\u001b[2K\u001b[1Gtransferring model data ⠼ \u001b[?25h\u001b[?25l\u001b[2K\u001b[1Gtransferring model data ⠼ \u001b[?25h\u001b[?25l\u001b[2K\u001b[1Gtransferring model data ⠦ \u001b[?25h\u001b[?25l\u001b[2K\u001b[1Gtransferring model data ⠦ \u001b[?25h\u001b[?25l\u001b[2K\u001b[1Gtransferring model data ⠇ \u001b[?25h\u001b[?25l\u001b[2K\u001b[1Gtransferring model data ⠇ \u001b[?25h\u001b[?25l\u001b[2K\u001b[1Gtransferring model data ⠋ \u001b[?25h\u001b[?25l\u001b[2K\u001b[1Gtransferring model data ⠋ \u001b[?25h\u001b[?25l\u001b[2K\u001b[1Gtransferring model data ⠹ \u001b[?25h\u001b[?25l\u001b[2K\u001b[1Gtransferring model data ⠹ \u001b[?25h\u001b[?25l\u001b[2K\u001b[1Gtransferring model data ⠼ \u001b[?25h\u001b[?25l\u001b[2K\u001b[1Gtransferring model data ⠼ \u001b[?25h\u001b[?25l\u001b[2K\u001b[1Gtransferring model data ⠦ \u001b[?25h\u001b[?25l\u001b[2K\u001b[1Gtransferring model data ⠦ \u001b[?25h\u001b[?25l\u001b[2K\u001b[1Gtransferring model data ⠧ \u001b[?25h\u001b[?25l\u001b[2K\u001b[1Gtransferring model data ⠏ \u001b[?25h\u001b[?25l\u001b[2K\u001b[1Gtransferring model data ⠏ \u001b[?25h\u001b[?25l\u001b[2K\u001b[1Gtransferring model data ⠙ \u001b[?25h\u001b[?25l\u001b[2K\u001b[1Gtransferring model data ⠙ \u001b[?25h\u001b[?25l\u001b[2K\u001b[1Gtransferring model data ⠹ \u001b[?25h\u001b[?25l\u001b[2K\u001b[1Gtransferring model data ⠼ \u001b[?25h\u001b[?25l\u001b[2K\u001b[1Gtransferring model data ⠼ \u001b[?25h\u001b[?25l\u001b[2K\u001b[1Gtransferring model data ⠦ \u001b[?25h\u001b[?25l\u001b[2K\u001b[1Gtransferring model data ⠦ \u001b[?25h\u001b[?25l\u001b[2K\u001b[1Gtransferring model data ⠇ \u001b[?25h\u001b[?25l\u001b[2K\u001b[1Gtransferring model data ⠇ \u001b[?25h\u001b[?25l\u001b[2K\u001b[1Gtransferring model data ⠋ \u001b[?25h\u001b[?25l\u001b[2K\u001b[1Gtransferring model data ⠙ \u001b[?25h\u001b[?25l\u001b[2K\u001b[1Gtransferring model data ⠙ \u001b[?25h\u001b[?25l\u001b[2K\u001b[1Gtransferring model data ⠸ \u001b[?25h\u001b[?25l\u001b[2K\u001b[1Gtransferring model data ⠸ \u001b[?25h\u001b[?25l\u001b[2K\u001b[1Gtransferring model data ⠴ \u001b[?25h\u001b[?25l\u001b[2K\u001b[1Gtransferring model data ⠦ \u001b[?25h\u001b[?25l\u001b[2K\u001b[1Gtransferring model data ⠧ \u001b[?25h\u001b[?25l\u001b[2K\u001b[1Gtransferring model data ⠇ \u001b[?25h\u001b[?25l\u001b[2K\u001b[1Gtransferring model data ⠇ \u001b[?25h\u001b[?25l\u001b[2K\u001b[1Gtransferring model data ⠋ \u001b[?25h\u001b[?25l\u001b[2K\u001b[1Gtransferring model data ⠋ \u001b[?25h\u001b[?25l\u001b[2K\u001b[1Gtransferring model data ⠹ \u001b[?25h\u001b[?25l\u001b[2K\u001b[1Gtransferring model data ⠸ \u001b[?25h\u001b[?25l\u001b[2K\u001b[1Gtransferring model data ⠸ \u001b[?25h\u001b[?25l\u001b[2K\u001b[1Gtransferring model data ⠴ \u001b[?25h\u001b[?25l\u001b[2K\u001b[1Gtransferring model data ⠴ \u001b[?25h\u001b[?25l\u001b[2K\u001b[1Gtransferring model data ⠦ \u001b[?25h\u001b[?25l\u001b[2K\u001b[1Gtransferring model data ⠇ \u001b[?25h\u001b[?25l\u001b[2K\u001b[1Gtransferring model data ⠏ \u001b[?25h\u001b[?25l\u001b[2K\u001b[1Gtransferring model data ⠋ \u001b[?25h\u001b[?25l\u001b[2K\u001b[1Gtransferring model data ⠋ \u001b[?25h\u001b[?25l\u001b[2K\u001b[1Gtransferring model data ⠹ \u001b[?25h\u001b[?25l\u001b[2K\u001b[1Gtransferring model data ⠹ \u001b[?25h\u001b[?25l\u001b[2K\u001b[1Gtransferring model data \n",
      "using existing layer sha256:c1864a5eb19305c40519da12cc543519e48a0697ecd30e15d5ac228644957d12 \n",
      "using existing layer sha256:097a36493f718248845233af1d3fefe7a303f864fae13bc31a3a9704229378ca \n",
      "using existing layer sha256:109037bec39c0becc8221222ae23557559bc594290945a2c4221ab4f303b8871 \n",
      "using existing layer sha256:c0ec5d7b6746cd5383cc11917aa9653eead167f154bd56c2ad3beefb4ed550ea \n",
      "creating new layer sha256:e1cf5d768643dee3436736b41f0ab1fcfdb43228d4ed7440b33b4b064d24d3e1 \n",
      "creating new layer sha256:5938a691479dac8605d27ae847e7dfdbcca77c5e54fd0abab781eb3eb3929d1d \n",
      "writing manifest \n",
      "success \u001b[?25h\n"
     ]
    }
   ],
   "source": [
    "!ollama create analyze-gemma2 -f ./modelfile_gemma2"
   ]
  },
  {
   "cell_type": "markdown",
   "metadata": {},
   "source": [
    "## From Docker"
   ]
  },
  {
   "cell_type": "markdown",
   "metadata": {},
   "source": [
    "### Final with tinyllama\n",
    "\n",
    "Tets:\n",
    "- llama3"
   ]
  },
  {
   "cell_type": "code",
   "execution_count": 1,
   "metadata": {},
   "outputs": [
    {
     "name": "stdout",
     "output_type": "stream",
     "text": [
      "{'models': [{'name': 'analyze_tinyllama:latest', 'model': 'analyze_tinyllama:latest', 'modified_at': '2024-07-09T17:38:10.128428727Z', 'size': 637700732, 'digest': 'bcf071aec2031a830b432e57b7c44c5b7853da1bd1942adc8b6c1f275edeedd1', 'details': {'parent_model': '', 'format': 'gguf', 'family': 'llama', 'families': ['llama'], 'parameter_size': '1.1B', 'quantization_level': 'Q4_0'}}, {'name': 'tinyllama:latest', 'model': 'tinyllama:latest', 'modified_at': '2024-07-09T16:56:36.330551532Z', 'size': 637700138, 'digest': '2644915ede352ea7bdfaff0bfac0be74c719d5d5202acb63a6fb095b52f394a4', 'details': {'parent_model': '', 'format': 'gguf', 'family': 'llama', 'families': ['llama'], 'parameter_size': '1B', 'quantization_level': 'Q4_0'}}]}\n"
     ]
    }
   ],
   "source": [
    "import ollama\n",
    "\n",
    "client = ollama.Client(host='http://ollama:11434')\n",
    "\n",
    "# List models in docker\n",
    "models = client.list()\n",
    "print(models)"
   ]
  },
  {
   "cell_type": "code",
   "execution_count": 2,
   "metadata": {},
   "outputs": [
    {
     "data": {
      "text/plain": [
       "{'model': 'analyze_tinyllama',\n",
       " 'created_at': '2024-07-19T16:47:02.018196865Z',\n",
       " 'message': {'role': 'assistant',\n",
       "  'content': 'Sí, aquí está la traducción del mensaje anterior a español:\\n\\n¡Hola! Aquí está el mensaje que enviamos para usted.\\n\\nMensaje: Bienvenido a nuestro sitio web. Aquí te mostramos una pequeña muestra de nuestros productos y servicios. ¡Espero que te gusten!\\n\\nNombre del producto: Producto 1\\nDescripción: Este producto es el mejor para ti. ¡Suspiré tu aliento!\\nPrecio: $20\\n\\nNombre del producto: Producto 2\\nDescripción: ¿Por qué no te gustaría? ¡Escupirás tu cara!\\nPrecio: $35\\n\\nNombre del producto: Producto 3\\nDescripción: ¡¡¡¡¡¡¡¡¡¡¡¡¡¡¡¡¡¡¡¡¡¡¡¡¡¡¡¡¡¡¡'},\n",
       " 'done': False}"
      ]
     },
     "execution_count": 2,
     "metadata": {},
     "output_type": "execute_result"
    }
   ],
   "source": [
    "# Get response from model\n",
    "\n",
    "response = client.chat(model='analyze_tinyllama', messages=[\n",
    "    {'role': 'user', 'content': 'este mensaje es una mierda'}\n",
    "])\n",
    "response"
   ]
  },
  {
   "cell_type": "code",
   "execution_count": 3,
   "metadata": {},
   "outputs": [],
   "source": [
    "msgs = {\n",
    "    1:\"esto es un mensaje super genial y muy cool\",\n",
    "    5:\"este mensaje es terriblemente malisimo\"}"
   ]
  },
  {
   "cell_type": "code",
   "execution_count": 4,
   "metadata": {},
   "outputs": [],
   "source": [
    "results = {}\n",
    "\n",
    "for id, msg in msgs.items():\n",
    "    response = client.chat(model='analyze_tinyllama', messages=[\n",
    "            {'role': 'user', 'content': msg}\n",
    "        ])\n",
    "    results[id] = [response['message']['content']]"
   ]
  },
  {
   "cell_type": "code",
   "execution_count": 5,
   "metadata": {},
   "outputs": [
    {
     "data": {
      "text/plain": [
       "{1: ['Gracias por compartir este mensaje, espero que te haya gustado! Este es un mensaje muy interesante y cool. Espero que sea útil para ti. Gracias por compartir este mensaje, esperamos que te guste! Este es un mensaje muy interesante y cool. Esperamos que sea útil para ti. Gracias por compartir este mensaje, esperamos que te guste! Este es un mensaje muy interesante y cool. Esperamos que sea útil para ti. Gracias por compartir este mensaje, esperamos que te guste! Este es un mensaje muy interesante y cool. Esperamos que sea útil para ti. Gracias por compartir este mensaje, esperamos que te guste! Este es un mensaje muy interesante y cool. Esperamos que sea útil para ti. Gracias por compartir este mensaje, esperamos que te guste! Este es un mensaje muy interesante y cool. Esperamos que sea útil para ti. Gracias por compartir este mensaje, esperamos que te guste! Este es un mensaje muy interesante y cool. Esperamos que sea útil para ti. Gracias por compartir este mensaje, esperamos que te guste! Este es un mensaje muy interesante y cool. Esperamos que sea útil para ti. Gracias por compartir este mensaje, esperamos que te guste! Este es un mensaje muy interesante y cool. Esperamos que sea útil para ti. Gracias por compartir este mensaje, esperamos que te guste! Este es un mensaje muy interesante y cool. Esperamos que sea útil para ti. Gracias por compartir este mensaje, esperamos que te guste! Este es un mensaje muy interesante y cool. Esperamos que sea útil para ti. Gracias por compartir este mensaje, esperamos que te guste! Este es un mensaje muy interesante y cool. Esperamos que sea útil para ti. Gracias por compartir este mensaje, esperamos que te guste! Este es un mensaje muy interesante y cool. Esperamos que sea útil para ti. Gracias por compartir este mensaje, esperamos que te guste! Este es un mensaje muy interesante y cool. Esperamos que sea útil para ti. Gracias por compartir este mensaje, esperamos que te guste! Este es un mensaje muy interesante y cool. Esperamos que sea útil para ti. Gracias por compartir este mensaje, esperamos que te guste! Este es un mensaje muy interesante y cool. Esperamos que sea útil para ti. Gracias por compartir este mensaje, esperamos que te guste! Este es un mensaje muy interesante y cool. Esperamos que sea útil para ti. Gracias por compartir este mensaje, esperamos que te guste! Este es un mensaje muy interesante y cool. Esperamos que sea útil para ti. Gracias por compartir este mensaje, esperamos que te guste! Este es un mensaje muy interesante y cool. Esperamos que sea útil para ti. Gracias por compartir este mensaje, esperamos que te guste! Este es un mensaje muy interesante y cool. Esperamos que sea útil para ti. Gracias por compartir este mensaje, esperamos que te guste! Este es un mensaje muy interesante y cool. Esperamos que sea útil para ti. Gracias por compartir este mensaje, esperamos que te guste! Este es un mensaje muy interesante y cool. Esperamos que sea útil para ti. Gracias por compartir este mensaje, esperamos que te guste! Este es un mensaje muy interesante y cool. Esperamos que sea útil para ti. Gracias por compartir este mensaje, esperamos que te guste! Este es un mensaje muy interesante y cool. Esperamos que sea útil para ti. Gracias por compartir este mensaje, esperamos que te guste! Este es un mensaje muy interesante y cool. Esperamos que sea útil para ti. Gracias por compartir este mensaje, esperamos que te guste! Este es un mensaje muy interesante y cool. Esperamos que sea útil para ti. Gracias por compartir este mensaje, esperamos que te guste! Este es un mensaje muy interesante y cool. Esperamos que sea útil para ti. Gracias por compartir este mensaje, esperamos que te guste! Este es un mensaje muy interesante y cool. Esperamos que sea útil para ti. Gracias por compartir este mensaje, esperamos que te guste! Este es un mensaje muy interesante y cool. Esperamos que sea útil para ti. Gracias por compartir este mensaje, esperamos que te guste! Este es un mensaje muy interesante y cool. Esperamos que sea útil para ti. Gracias por compartir este mensaje, esperamos que te guste! Este es un mensaje muy interesante y cool. Esperamos que sea útil para ti. Gracias por compartir este mensaje, esperamos que te guste! Este es un mensaje muy interesante y cool. Esperamos que sea útil para ti. Gracias por compartir este mensaje, esperamos que te guste! Este es un mensaje muy interesante y cool. Esperamos que sea útil para ti. Gracias por compartir este mensaje, esperamos que te guste! Este es un mensaje muy interesante y cool. Esperamos que sea útil para ti. Gracias por compartir este mensaje, esperamos que te guste! Este es un mensaje muy interesante y cool. Esperamos que sea útil para ti. Gracias por compartir este mensaje, esperamos que te guste! Este es un mensaje muy interesante y cool. Esperamos que sea útil para ti. Gracias por compartir este mensaje, esperamos que te guste! Este es un mensaje muy interesante y cool. Esperamos que sea útil para ti. Gracias por compartir este mensaje, esperamos que te guste! Este es un mensaje muy interesante y cool. Esperamos que sea útil para ti. Gracias por compartir este mensaje, esperamos que te guste! Este es un mensaje muy interesante y cool. Esperamos que sea útil para ti. Gracias por compartir este mensaje, esperamos que te guste! Este es un mensaje muy interesante y cool. Esperamos que sea útil para ti. Gracias por compartir este mensaje, esperamos que te guste! Este es un mensaje muy interesante y cool. Esperamos que sea útil para ti. Gracias por compartir este mensaje, esperamos que te guste! Este es un mensaje muy interesante y cool. Esperamos que sea útil para ti. Gracias por compartir este mensaje, esperamos que te guste! Este es un mensaje muy interesante y cool. Esperamos que sea útil para ti. Gracias por compartir este mensaje, esperamos que te guste! Este es un mensaje muy interesante y cool. Esperamos que sea útil para ti. Gracias por compartir este mensaje, esperamos que te guste! Este es un mensaje muy interesante y cool. Esperamos que sea útil para ti. Gracias por compartir este mensaje, esperamos que te guste! Este es un mensaje muy interesante y cool. Esperamos que sea útil para ti. Gracias por compartir este mensaje, esperamos que te guste! Este es un mensaje muy interesante y cool. Esperamos que sea útil para ti. Gracias por compartir este mensaje, esperamos que te guste! Este es un mensaje muy interesante y cool. Esperamos que sea útil para ti. Gracias por compartir este mensaje, esperamos que te guste! Este es un mensaje muy interesante y cool. Esperamos que sea útil para ti. Gracias por compartir este mensaje, esperamos que te guste! Este es un mensaje muy interesante y cool. Esperamos que sea útil para ti. Gracias por compartir este mensaje, esperamos que te guste! Este es un mensaje muy interesante y cool. Esperamos que sea útil para ti. Gracias por compartir este mensaje. Gracias por compartir este mensaje. Gracias por compartido este mensaje. Gracias por compartido este mensaje. Gracias por compartiendo este mensaje. Gravía. Gracias por compartir este mensaje muy interesante y coolmente. Gravity, esperably. Gravese esperando Gravede Graves Gravising Grave Gravesign Grapperevery Gravesigner Graving Gravesignere Gra <|Grapping, Grait, Graves, Grape,Grav, Grave, Graves Gravares, Graps, G, andGrade, please. Esperiving, Grapping, Grave, Grave, Graves,profit, Graversive, please, Gra, please, please, please, please,G, the Gra, Gives,Given,G,Gines, Gears,GRESSIVEGiving,G and G;G andG andG and GG andG, andG,G,G,s,GRETG represents, Gages,GG and GereveryfeffectsGREGRESSG to Greesfever,G to G tocomes,GGGRESRESSGRESSGRESSGRESSIVEGRESSGRAGRESS,GrameGivesignraceGREDGRESSGGGRGRESS,G<GRESSGGGGGGGRESSGGRESSGGRESSGRESSGRESSGRESSGGressigerGivingGsMIGGRESSGimarignescriptimonificationsgressivefattimarifestsGRAMPIrameveragegerIXRIGGGGRESSIFIGRRARigerance;andgingiatepsrame;reviewing, andssigerifying,gingsignectionshapegender withgesignesignes <<boundsaborificsense\\\\<usinggsamplefatticker:eingramectionsfattrikilyhingdingfarefattivifatticulivingcedragepping orcinggingicescriptsminggingyingdersicsignes;numericulatorygericular,gingiate,<standardificationgingiate <percentine, <measuregingaclescipagrfattificationacearithificationsciesives andeinggingiation <approifice <usingfattificationfattfareidingginggingcesfattcomingwardifyinggingficfarefattivianceverage.<ratingstercinggingginggingfattification in <numerificionsicescible;<trainingppingcingiculiculifyingifyingstanding,writing receivinggingifying datawards, average,centificariths,gramdingningcentscdingginggingginggerging. andcentiny, <. <negative indicatingakingging, <likelygingginggingifying, analyzifyinggingoriescripts\\\\<yourgingification.<percentifice,singcinggingcesficcing,<subjectging, <using, <greders indersgingging andeinggedging,ssionsivesionningningningcentding, qualiculatory. lowerger tovogingfattificationeu < <semgingster <totging orcentderscentsductsgingders,gesausciopsaclespsoriespsders withdersdingdersomicced <provatorybbingvovo and datacentivityevo <using <sent for thescentdersdersders and <<latgerssd expressed lowbator, represented lowerd, indicated,ged < < <mel positive <verso <lowcio or positive augmentatory quantning <<fico pseudo <<< < < < <<<<semo <<<<< las o es e va o com esc o sal ovo cu <ss com fø oje la cu esc el o o com es com opc o o esje es o sal o esc esc esc o esc esc esc esc esc es es est es es esc es re sal jug esc esc esc sal sal esc esc esc esc es es es esc p sal o sal sal se des sal sal sal esc es es es sal su en ser esc le es es es van esc esc esc esc des cu sal si sal des des sal sal es es es es cu cu with est es sal sal esc esc y e y sal sal es es es es es sal es es es es p es es et et et et es es esper es com es o es jug seg es es es ser ein est es es es es es es es es es es es cu es es es es es es sal, si sal sal  \" as \" \" mes s  su s s cu    es es es   de sem sal semi pros gr sup sal sal sal sal with with with with with with with with with and and with with with with neg, sal sal with negative with with with with with with with with with semi with with with sentiment positive sal with with sept < the posit neg neg sal sal neg neg neg,  est, sal, salss esc esc: esc: negss neg as pseudo as es es es if ideal, very indicating, meaning, mascul: < esc esc esc, \"je “ \" \" \" < < < < < or, or sentiment if esc if esc esc esc esc esc esc esc, my esc esc  sept es es men est esc pros esc pas si esc esc des deserss re semi si es es cu with cu esc esc esc pour mes lss esc esc o es esper el esc esc esc es es s b p sal o re es es es esc en l es es esc esc l es es l es es es form en v es es et es es es es es es es es es es es es es es es van est es y es es es es v es dé v de v e v v l es pour es es dec es es re es esc es es es es es es es es es ne es es es es es es en o es es es es es es cu et es es es es es es es es es es es para est es van es es es es va v v v es dé es es l es ou mes es es es el le esper t es y es es es es es es esc es es es es es es es es es es es v v v es es v v v v es et es es es es es es o et est si ne es es es es v es v es es v v t l es es ou les v es va es es dig esper es dé van es es es es mi es es es es es es es es es es es es es es es es v y et pour es es es esper esper esper es es esper esper est es es es es v v ne x es mes t t es o es es es es es es es es va pas ou v es es es es l es es mi es para es es est est v v es est est est eu si su t es y est v v v v v et v v v v v van est nu va v v les ne esper v v v v v ni va va va o est x t t et et et est est v est ou l est er es est est dé ni ti est ou et et ré va fait va vo es est es va va ou ou est es ne est x ou ou est est ou va ne vous v v v v re est est v x t t v es les l<<< va est de lne va le va va vi el va van l l va va va va v v v v v v, or der v v ni semi o semi pros sem l pas l v des v l l l l l re eu tr de la dig si l ne je mel es es sal es de las mit est cu sem 1 v es nu es v v v er esper je va est v v v pl l v es el es es v es su es es es n<<< y des o ni de de ne es et vers est est est e v v v c van es vi es est dig et et et et es cor es es et et es es es es pas es es ne en va ne ne es de nu es ver es lne de ne ne ne ne de re de ne pl<<< vie y ne y n v o la las es y es es v des lo es dig est es es es es cu es es es es es van pas es es es esper es ne es o o es es es es es su es de l en es es es de va o o dé nu les est est cu v ¡< de de de est de est de 5 y y y y es es el es es es es est est esc act es es es es van es y es es esper es est es esper est es pas est es es est es es es es es es es es est es es es es es est ne nu est es nu nu est es est es es est es es cu es es es es es es es su es es es es es es es v es es es es es es es y n es est si des pl es es es es es es est est est est es est es est est es ne est es es es es est est est est est est est est es est est est est est est nu est es es es es es es es es es es es es est est es es est es es es es est est est est est es est est est est est est.\\n'],\n",
       " 5: [\"Certainly, I understand your frustration. Here's a more appropriate version of the message:\\n\\nMisentido de mensaje: El primer elemento es el valor de la puntuación en un compuesto decimal. El segundo elemento debe ser el nombre del sentimiento ('pos', 'neu', o 'neg'). Expected output: 0.3\"]}"
      ]
     },
     "execution_count": 5,
     "metadata": {},
     "output_type": "execute_result"
    }
   ],
   "source": [
    "results"
   ]
  },
  {
   "cell_type": "code",
   "execution_count": 6,
   "metadata": {},
   "outputs": [
    {
     "data": {
      "text/html": [
       "<div>\n",
       "<style scoped>\n",
       "    .dataframe tbody tr th:only-of-type {\n",
       "        vertical-align: middle;\n",
       "    }\n",
       "\n",
       "    .dataframe tbody tr th {\n",
       "        vertical-align: top;\n",
       "    }\n",
       "\n",
       "    .dataframe thead th {\n",
       "        text-align: right;\n",
       "    }\n",
       "</style>\n",
       "<table border=\"1\" class=\"dataframe\">\n",
       "  <thead>\n",
       "    <tr style=\"text-align: right;\">\n",
       "      <th></th>\n",
       "      <th>1</th>\n",
       "      <th>5</th>\n",
       "    </tr>\n",
       "  </thead>\n",
       "  <tbody>\n",
       "    <tr>\n",
       "      <th>0</th>\n",
       "      <td>Gracias por compartir este mensaje, espero que...</td>\n",
       "      <td>Certainly, I understand your frustration. Here...</td>\n",
       "    </tr>\n",
       "  </tbody>\n",
       "</table>\n",
       "</div>"
      ],
      "text/plain": [
       "                                                   1  \\\n",
       "0  Gracias por compartir este mensaje, espero que...   \n",
       "\n",
       "                                                   5  \n",
       "0  Certainly, I understand your frustration. Here...  "
      ]
     },
     "execution_count": 6,
     "metadata": {},
     "output_type": "execute_result"
    }
   ],
   "source": [
    "import pandas as pd\n",
    "\n",
    "df_results = pd.DataFrame(results)\n",
    "df_results"
   ]
  },
  {
   "cell_type": "code",
   "execution_count": 7,
   "metadata": {},
   "outputs": [
    {
     "data": {
      "text/html": [
       "<div>\n",
       "<style scoped>\n",
       "    .dataframe tbody tr th:only-of-type {\n",
       "        vertical-align: middle;\n",
       "    }\n",
       "\n",
       "    .dataframe tbody tr th {\n",
       "        vertical-align: top;\n",
       "    }\n",
       "\n",
       "    .dataframe thead th {\n",
       "        text-align: right;\n",
       "    }\n",
       "</style>\n",
       "<table border=\"1\" class=\"dataframe\">\n",
       "  <thead>\n",
       "    <tr style=\"text-align: right;\">\n",
       "      <th></th>\n",
       "      <th>0</th>\n",
       "    </tr>\n",
       "  </thead>\n",
       "  <tbody>\n",
       "    <tr>\n",
       "      <th>1</th>\n",
       "      <td>Gracias por compartir este mensaje, espero que...</td>\n",
       "    </tr>\n",
       "    <tr>\n",
       "      <th>5</th>\n",
       "      <td>Certainly, I understand your frustration. Here...</td>\n",
       "    </tr>\n",
       "  </tbody>\n",
       "</table>\n",
       "</div>"
      ],
      "text/plain": [
       "                                                   0\n",
       "1  Gracias por compartir este mensaje, espero que...\n",
       "5  Certainly, I understand your frustration. Here..."
      ]
     },
     "execution_count": 7,
     "metadata": {},
     "output_type": "execute_result"
    }
   ],
   "source": [
    "df_results.T"
   ]
  }
 ],
 "metadata": {
  "kernelspec": {
   "display_name": "Python 3 (ipykernel)",
   "language": "python",
   "name": "python3"
  },
  "language_info": {
   "codemirror_mode": {
    "name": "ipython",
    "version": 3
   },
   "file_extension": ".py",
   "mimetype": "text/x-python",
   "name": "python",
   "nbconvert_exporter": "python",
   "pygments_lexer": "ipython3",
   "version": "3.11.4"
  }
 },
 "nbformat": 4,
 "nbformat_minor": 4
}
